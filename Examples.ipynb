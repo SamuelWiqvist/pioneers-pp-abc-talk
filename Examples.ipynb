{
 "cells": [
  {
   "cell_type": "markdown",
   "metadata": {},
   "source": [
    "# Setup"
   ]
  },
  {
   "cell_type": "markdown",
   "metadata": {},
   "source": [
    "Load packages"
   ]
  },
  {
   "cell_type": "code",
   "execution_count": 118,
   "metadata": {},
   "outputs": [],
   "source": [
    "using CSV\n",
    "using PyPlot\n",
    "using LinearAlgebra\n",
    "using Distributions\n",
    "using Statistics\n",
    "using Printf"
   ]
  },
  {
   "cell_type": "markdown",
   "metadata": {},
   "source": [
    "# Bayesian linear regression"
   ]
  },
  {
   "cell_type": "markdown",
   "metadata": {},
   "source": [
    "Load and plot data"
   ]
  },
  {
   "cell_type": "code",
   "execution_count": 96,
   "metadata": {},
   "outputs": [
    {
     "data": {
      "image/png": "[encoded data removed]",
      "text/plain": [
       "Figure(PyObject <Figure size 640x480 with 1 Axes>)"
      ]
     },
     "metadata": {},
     "output_type": "display_data"
    }
   ],
   "source": [
    "data = CSV.read(\"cars.csv\") # Load the cars stopping distance dataset (see https://stat.ethz.ch/R-manual/R-patched/library/datasets/html/cars.html)\n",
    "x = convert(Array{Float64,1},data[:,2])\n",
    "y = convert(Array{Float64,1},data[:,3])\n",
    "\n",
    "PyPlot.figure()\n",
    "PyPlot.plot(x,y, \"*\")\n",
    "PyPlot.xlabel(\"Speed (MPH)\")\n",
    "PyPlot.ylabel(\"Distance (feet)\");"
   ]
  },
  {
   "cell_type": "markdown",
   "metadata": {},
   "source": [
    "LS estimations "
   ]
  },
  {
   "cell_type": "code",
   "execution_count": 141,
   "metadata": {},
   "outputs": [
    {
     "name": "stdout",
     "output_type": "stream",
     "text": [
      "Conf. int. β_1: [-31.17, -3.99]\n",
      "Conf. int. β_2: [3.10, 4.77]\n",
      "Conf. int. σ: [12.83, 19.21]\n"
     ]
    }
   ],
   "source": [
    "n = length(y) # set nbr of obs \n",
    "\n",
    "X = ones(n,2) # set design matrix \n",
    "X[:,2] = x\n",
    "\n",
    "# compute LS estimations\n",
    "β_hat_least_squares = inv(X'*X)*X'*y # est β'as\n",
    "σ_hat_least_squares = sqrt((y'*y-β_hat_least_squares'*X'*y)/(n-2)) # est σ\n",
    "β_hat_least_squares_std = σ_hat_least_squares*sqrt.([inv(X'*X)[1,1];inv(X'*X)[2,2]])\n",
    "\n",
    "# compute conf int for β'as\n",
    "conf_int_lower_bound = β_hat_least_squares - quantile(TDist(n-2), 0.975)*β_hat_least_squares_std \n",
    "conf_int_upper_bound = β_hat_least_squares + quantile(TDist(n-2), 0.975)*β_hat_least_squares_std\n",
    "\n",
    "# compute conf int for σ (see https://www.overleaf.com/read/bfvqxqhsycgp)\n",
    "Q_0 = sum((y.-mean(y)).^2) - sum((x.-mean(x)).*(y.-mean(y)))^2/sum((x.-mean(x)).^2)\n",
    "conf_int_sigma = [sqrt(Q_0/quantile(Chisq(n-2),0.975)); sqrt(Q_0/quantile(Chisq(n-2),0.025))]\n",
    "\n",
    "\n",
    "# print confidence intervals\n",
    "@printf \"Conf. int. β_1: [%.2f, %.2f]\\n\" conf_int_lower_bound[1] conf_int_upper_bound[1]\n",
    "@printf \"Conf. int. β_2: [%.2f, %.2f]\\n\" conf_int_lower_bound[2] conf_int_upper_bound[2]\n",
    "@printf \"Conf. int. σ: [%.2f, %.2f]\\n\" conf_int_sigma[1] conf_int_sigma[2]"
   ]
  },
  {
   "cell_type": "markdown",
   "metadata": {},
   "source": [
    "Specify the Bayesian model"
   ]
  },
  {
   "cell_type": "code",
   "execution_count": 142,
   "metadata": {},
   "outputs": [],
   "source": [
    "# prior for β's: Normal(0,10)\n",
    "μ_β_prior = 0;\n",
    "σ_β_prior = 10;\n",
    "\n",
    "# prior for σ: Gamma(2,3)\n",
    "α_σ_prior = 2; # shape parameter\n",
    "θ_σ_prior = 3; # scale parameter"
   ]
  },
  {
   "cell_type": "markdown",
   "metadata": {},
   "source": [
    "Set-up functions for sampling from the posterior using the Metropolis-Hastings algorithm"
   ]
  },
  {
   "cell_type": "code",
   "execution_count": 145,
   "metadata": {},
   "outputs": [
    {
     "data": {
      "text/plain": [
       "MH (generic function with 2 methods)"
      ]
     },
     "execution_count": 145,
     "metadata": {},
     "output_type": "execute_result"
    }
   ],
   "source": [
    "# Evaluates the logarithm of the pdf for the joint prior.\n",
    "function log_prior(θ::Vector)\n",
    "\n",
    "  log_β_0_prior = log_normal_pdf(θ[1])\n",
    "  log_β_1_prior = log_normal_pdf(θ[2])\n",
    "  log_σ_prior = log_gamma_pdf(θ[3])\n",
    "\n",
    "  return log_β_0_prior+log_β_1_prior+log_σ_prior\n",
    "\n",
    "end\n",
    "\n",
    "\n",
    "# Logarithm of the normal pdf.\n",
    "function log_normal_pdf(x::Real)\n",
    "  return -0.5*(x-μ_β_prior)^2/σ_β_prior^2\n",
    "end\n",
    "\n",
    "# Logarithm of the Gamma pdf.\n",
    "function log_gamma_pdf(x::Real)\n",
    "  if x <= 0\n",
    "    return log(0)\n",
    "  else\n",
    "    return (α_σ_prior-1)*log(x)-x/θ_σ_prior\n",
    "  end\n",
    "end\n",
    "\n",
    "# Log-likelihood for the simple linear model.\n",
    "function loglik(y::Vector, x::Vector, θ::Vector)\n",
    "\n",
    "  n = length(y)\n",
    "  loglik = -n*0.5*log(θ[3]^2)\n",
    "\n",
    "  for i = 1:n\n",
    "    loglik += -0.5*(y[i]-θ[1]-θ[2]*x[i])^2/θ[3]^2\n",
    "  end\n",
    "\n",
    "  return loglik\n",
    "\n",
    "end\n",
    "\n",
    "\n",
    "# Runs the Metropolis-Hastings algorithm.\n",
    "function MH(y::Vector, x::Vector, nbr_iter::Int, σ_mh::Real, θ_0::Vector, print_interval::Int=500)\n",
    "\n",
    "  # pre-allocate matrices\n",
    "  chain = zeros(length(θ_0), nbr_iter)\n",
    "  loglik_vec = zeros(nbr_iter)\n",
    "  accept_vec = zeros(nbr_iter)\n",
    "\n",
    "  # set start values\n",
    "  chain[:,1] = θ_0\n",
    "  loglik_vec[1] = loglik(y,x,chain[:,1])\n",
    "\n",
    "  # print start\n",
    "  @printf \"Starting Metropolis-Hastings\\n\"\n",
    "\n",
    "\n",
    "\n",
    "  for i = 2:nbr_iter\n",
    "\n",
    "    # print info\n",
    "    if mod(i-1,print_interval) == 0\n",
    "      # print progress\n",
    "      @printf \"Percentage done: %.2f\\n\" 100*(i-1)/nbr_iter\n",
    "      # print current acceptance rate\n",
    "      @printf \"Acceptance rate on iteration %d to %d is %.4f\\n\" i-print_interval i-1  sum(accept_vec[i-print_interval:i-1])/( i-1 - (i-print_interval) )\n",
    "    end\n",
    "\n",
    "    # random walk proposal\n",
    "    θ_proposal = chain[:,i-1] + rand(Normal(0,1),length(θ_0))*σ_mh\n",
    "\n",
    "    # loglik for proposal\n",
    "    loglik_proposal = loglik(y,x,θ_proposal)\n",
    "\n",
    "    # compute logarithm of accaptance probability\n",
    "    α_log = loglik_proposal + log_prior(θ_proposal) - (loglik(y,x,chain[:,i-1])+ log_prior(chain[:,i-1]))\n",
    "\n",
    "    # generate log random number\n",
    "    u_log = log(rand())\n",
    "\n",
    "    # compute accaptance decision\n",
    "    accept = u_log < α_log\n",
    "\n",
    "    # update chain\n",
    "    if accept\n",
    "      chain[:,i] = θ_proposal\n",
    "      loglik_vec[i] = loglik_proposal\n",
    "      accept_vec[i] = 1\n",
    "    else\n",
    "      chain[:,i] = chain[:,i-1]\n",
    "      loglik_vec[i] = loglik_vec[i-1]\n",
    "    end\n",
    "\n",
    "  end\n",
    "\n",
    "  # print info\n",
    "  @printf \"Ending Metropolis-Hastings\\n\"\n",
    "  return chain, loglik_vec, accept_vec\n",
    "\n",
    "end"
   ]
  },
  {
   "cell_type": "code",
   "execution_count": 76,
   "metadata": {},
   "outputs": [
    {
     "data": {
      "text/plain": [
       "2-element Array{Float64,1}:\n",
       " -3.981\n",
       "  4.768"
      ]
     },
     "execution_count": 76,
     "metadata": {},
     "output_type": "execute_result"
    }
   ],
   "source": [
    "conf_int_upper_bound"
   ]
  }
 ],
 "metadata": {
  "kernelspec": {
   "display_name": "Julia 1.0.0",
   "language": "julia",
   "name": "julia-1.0"
  },
  "language_info": {
   "file_extension": ".jl",
   "mimetype": "application/julia",
   "name": "julia",
   "version": "1.0.0"
  }
 },
 "nbformat": 4,
 "nbformat_minor": 2
}
