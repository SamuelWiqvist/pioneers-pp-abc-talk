{
 "cells": [
  {
   "cell_type": "markdown",
   "metadata": {
    "slideshow": {
     "slide_type": "slide"
    }
   },
   "source": [
    "## An Introduction to Bayesian Statistics and Approximate Bayesian Computing \n",
    "\n",
    "\n",
    "Samuel Wiqvist, Ph.D. student, Lund University.\n",
    "\n",
    "Twitter: @samuel_wiqvist\n",
    "\n",
    "Homepage: http://www.maths.lu.se/staff/samuel-wiqvist/\n",
    "\n"
   ]
  },
  {
   "cell_type": "code",
   "execution_count": 35,
   "metadata": {
    "slideshow": {
     "slide_type": "skip"
    }
   },
   "outputs": [
    {
     "data": {
      "text/plain": [
       "plot_abc_inference_results (generic function with 1 method)"
      ]
     },
     "execution_count": 35,
     "metadata": {},
     "output_type": "execute_result"
    }
   ],
   "source": [
    "# load packages and set up\n",
    "using PyPlot\n",
    "using Distributions\n",
    "using Printf\n",
    "using Random \n",
    "using KernelDensity\n",
    "\n",
    "# data model\n",
    "Random.seed!(12)\n",
    "α = 2; β = 2\n",
    "m = 4; n = 10; p_true = 0.7\n",
    "y_obs = rand(Binomial(m,p_true),n) # generate data\n",
    "\n",
    "# analytical posterior\n",
    "posterior = Beta(α + sum(y_obs), β + m*n - sum(y_obs));\n",
    "\n",
    "# plot function\n",
    "function plot_abc_inference_results(abc_posterior_samples)\n",
    "    \n",
    "    kde_approx_posterior = kde(abc_posterior_samples)\n",
    "\n",
    "    # plot results\n",
    "    PyPlot.figure(figsize=(7,4))\n",
    "    PyPlot.plot(kde_approx_posterior.x,kde_approx_posterior.density, \"b\")\n",
    "    PyPlot.plot(0:0.01:1,pdf.(posterior, 0:0.01:1), \"r\")\n",
    "    PyPlot.plot(0:0.01:1, pdf.(prior, 0:0.01:1), \"g\")\n",
    "    PyPlot.plot((p_true, p_true), (0, maximum(pdf.(posterior, 0:0.01:1))), \"k\")\n",
    "    PyPlot.xlabel(\"p\")\n",
    "    PyPlot.ylabel(\"Density\")\n",
    "    PyPlot.legend([\"ABC posterior\"; \"Analytical posterior\"; \"Prior\"; \"Ground truth\"])\n",
    "\n",
    "end "
   ]
  },
  {
   "cell_type": "markdown",
   "metadata": {
    "slideshow": {
     "slide_type": "slide"
    }
   },
   "source": [
    "#### What we will talk about today\n",
    "\n",
    "* Introduction to Bayesian statistics.\n",
    "    * Simple example: Bayesian linear regression."
   ]
  },
  {
   "cell_type": "markdown",
   "metadata": {
    "slideshow": {
     "slide_type": "fragment"
    }
   },
   "source": [
    "* Introduction to ABC.\n",
    "    * We will have a practical focus and run ABC for a simple model (the Beta-Binomial model).   \n"
   ]
  },
  {
   "cell_type": "markdown",
   "metadata": {
    "slideshow": {
     "slide_type": "fragment"
    }
   },
   "source": [
    "* ABC and deep learning:\n",
    "    * Learning summary statistics using deep learning;\n",
    "    * Other network-based approaches."
   ]
  },
  {
   "cell_type": "markdown",
   "metadata": {
    "slideshow": {
     "slide_type": "fragment"
    }
   },
   "source": [
    "* Conclusion:\n",
    "    * Something on the computer exercise."
   ]
  },
  {
   "cell_type": "markdown",
   "metadata": {
    "slideshow": {
     "slide_type": "slide"
    }
   },
   "source": [
    "#### The Bayesian statistical model 1/2\n",
    " \n",
    "$$\n",
    "p(\\theta | y) = \\frac{p(y | \\theta) p(\\theta)}{p(y)} = \\frac{p(y | \\theta) p(\\theta)}{\\int_{}^{} p(y | \\theta) p(\\theta) d\\theta}.\n",
    "$$\n",
    "\n",
    "$p(\\theta)$ - prior\n",
    "\n",
    "$p(y|\\theta)$ - likelihood\n",
    "\n",
    "$p(\\theta|y)$ - posterior"
   ]
  },
  {
   "cell_type": "markdown",
   "metadata": {
    "slideshow": {
     "slide_type": "slide"
    }
   },
   "source": [
    "#### The Bayesian statistical model 1/2\n",
    "\n",
    "* The normalizing constant $\\int_{}^{} p(y | \\theta) p(\\theta) d\\theta$ is usually hard to compute, but up to proportionality we have that \n",
    "\n",
    "$$\n",
    "p(\\theta | y) \\propto p(y | \\theta) p(\\theta).\n",
    "$$"
   ]
  },
  {
   "cell_type": "markdown",
   "metadata": {
    "slideshow": {
     "slide_type": "fragment"
    }
   },
   "source": [
    "* This property if of importance since many inference methods only require us to be ablet o evaluate the posterior up to a normalizing constant."
   ]
  },
  {
   "cell_type": "markdown",
   "metadata": {
    "slideshow": {
     "slide_type": "slide"
    }
   },
   "source": [
    "#### The Bayesian inference method \n",
    "\n",
    "* The goal is to compute (or sample from) the posterior distribution $p(\\theta|y)$.  "
   ]
  },
  {
   "cell_type": "markdown",
   "metadata": {
    "slideshow": {
     "slide_type": "fragment"
    }
   },
   "source": [
    "* Sampling methods (Markov Chain Monte Carlo methods) are popular."
   ]
  },
  {
   "cell_type": "markdown",
   "metadata": {
    "slideshow": {
     "slide_type": "fragment"
    }
   },
   "source": [
    "* But there are other inference methods as well, e.g. Maximum a posterior (MAP) estimation and variational inference."
   ]
  },
  {
   "cell_type": "markdown",
   "metadata": {
    "slideshow": {
     "slide_type": "slide"
    }
   },
   "source": [
    "#### How the Bayesian framework differs for the frequentist framework\n",
    "\n",
    "* The Bayesian framework utilizes a subjective probability interpretation, while the frequentists framework utilizes a frequentistic probability interpretation."
   ]
  },
  {
   "cell_type": "markdown",
   "metadata": {
    "slideshow": {
     "slide_type": "fragment"
    }
   },
   "source": [
    "* The subjective probability interpretation is how we use \"probability\" in everyday language, and can also be considered to non-repetitive events."
   ]
  },
  {
   "cell_type": "markdown",
   "metadata": {
    "slideshow": {
     "slide_type": "fragment"
    }
   },
   "source": [
    "* In the Bayesian framework, unknown parameters $\\theta$ are random variables, while in the frequentists framework the unknown parameters $\\theta$  are unknown *fixed* constants. "
   ]
  },
  {
   "cell_type": "markdown",
   "metadata": {
    "slideshow": {
     "slide_type": "slide"
    }
   },
   "source": [
    "#### Example: Bayesian linear regression for the cars-dataset 1/5\n",
    "\n",
    "* Toy example: Linear regression for the cars data set (stopping distance for 1920's cars).\n",
    "\n",
    "<img src=\"fig/cars_data.svg\" width=\"800\" height=\"800\" align = \"bottom\"/>\n"
   ]
  },
  {
   "cell_type": "markdown",
   "metadata": {
    "slideshow": {
     "slide_type": "slide"
    }
   },
   "source": [
    "#### Example: Bayesian linear regression for the cars-dataset 2/5\n",
    "\n",
    "* The model \n",
    "\n",
    "$$y_i = \\beta_0 + \\beta_1 x_i + \\epsilon_i, \\, \\epsilon_i \\sim \\mathcal{N}(0, \\sigma),$$\n",
    "$$\\beta_0, \\beta_1 \\sim \\mathcal{N}0, 10),$$\n",
    "$$\\sigma \\sim \\text{Gamma}(2,3).$$"
   ]
  },
  {
   "cell_type": "markdown",
   "metadata": {
    "slideshow": {
     "slide_type": "slide"
    }
   },
   "source": [
    "#### Example: Bayesian linear regression for the cars-dataset 3/5\n",
    "\n",
    "* Do the priors make sens (prior predictive analyses)?\n",
    "* Prior predictive distribution: $p(\\tilde{y}) = \\int p(\\tilde{y}|\\theta) p(\\theta) d\\theta$."
   ]
  },
  {
   "cell_type": "markdown",
   "metadata": {
    "slideshow": {
     "slide_type": "fragment"
    }
   },
   "source": [
    "<img src=\"fig/prior_predictions1.svg\" width=\"600\" height=\"600\" align = \"bottom\"/>\n",
    "* Conclusion: The priors are (very) weakly informative. "
   ]
  },
  {
   "cell_type": "markdown",
   "metadata": {
    "slideshow": {
     "slide_type": "slide"
    }
   },
   "source": [
    "#### Example: Bayesian linear regression for the cars-dataset 4/5\n",
    "\n",
    "* Inference results and comparison with maximum likelihood (least squares).\n",
    "\n",
    "|                           | <font size=\"5\">Maximum likelihood (LS)</font>   | <font size=\"5\">Bayesian inference (MCMC)</font>                  | \n",
    "|---------------------------|----------------------|-----------------------|\n",
    "| <font size=\"5\">$\\beta_0$</font>                  |<font size=\"5\">-17.58 (-31.17, -3.99)</font> |<font size=\"5\">-11.18 (-22.40, 0.99)</font>   |\n",
    "| <font size=\"5\">$\\beta_1$</font>                  |<font size=\"5\">3.93 (3.10, 4.77)</font>      |<font size=\"5\">3.56 (2.82, 4.28)</font>       |\n",
    "| <font size=\"5\">$\\sigma$</font>                   |<font size=\"5\">15.38 (12.83, 19.21)</font>   |<font size=\"5\">15.23 (12.62, 18.59)</font>    |\n"
   ]
  },
  {
   "cell_type": "markdown",
   "metadata": {
    "slideshow": {
     "slide_type": "slide"
    }
   },
   "source": [
    "#### Example: Bayesian linear regression for the cars-dataset 5/5\n",
    "* Are the parameter estimations reliable (posterior predictive analyses)?\n",
    "* Posterior predictive distribution:  $p(\\tilde{y}|y_{\\text{obs}}) = \\int p(\\tilde{y}|\\theta, y_{\\text{obs}}) p(\\theta |y_{\\text{obs}}) d\\theta$."
   ]
  },
  {
   "cell_type": "markdown",
   "metadata": {
    "slideshow": {
     "slide_type": "fragment"
    }
   },
   "source": [
    "<img src=\"fig/post_predictions.svg\" width=\"600\" height=\"600\" align = \"bottom\"/>\n",
    "* Conclusions: The parameter estimations are reliable since we can generate *fake* data from the posterior predictive distribution, that is similar to the observed data."
   ]
  },
  {
   "cell_type": "markdown",
   "metadata": {
    "slideshow": {
     "slide_type": "slide"
    }
   },
   "source": [
    "#### Approximate Bayesian Computation: Simulation based inference \n",
    "\n",
    "* ABC in a nut-shell: Simulations-based inference method where we generate parameter proposal $\\theta^\\star$ and accept $\\theta^\\star$ if the generated data $y^{\\star}\\sim p(y|\\theta^\\star)$ is *similar* to our observed data $y^{\\text{obs}}$."
   ]
  },
  {
   "cell_type": "markdown",
   "metadata": {
    "slideshow": {
     "slide_type": "fragment"
    }
   },
   "source": [
    "* ABC only requires that we can simulate data from a computer simulator of our model $p(y|\\theta)$."
   ]
  },
  {
   "cell_type": "markdown",
   "metadata": {
    "slideshow": {
     "slide_type": "fragment"
    }
   },
   "source": [
    "* Thus, ABC is very generic, and can be applied for models where the likelihood function is intractable.   "
   ]
  },
  {
   "cell_type": "markdown",
   "metadata": {
    "slideshow": {
     "slide_type": "fragment"
    }
   },
   "source": [
    "* *Curse-of-dimensionality*: Instead of comparing the data sets, we compare a set of summary statistics $s =S(y)$. For example, for dynamic models, summaries can be autocorrelations, cross-covariances, stationary mean. For i.i.d. data could be quantiles, mean, and standard deviation, etc."
   ]
  },
  {
   "cell_type": "markdown",
   "metadata": {
    "slideshow": {
     "slide_type": "slide"
    }
   },
   "source": [
    "#### Approximate Bayesian Computation: Rejection sampling method \n",
    "\n",
    "* Generate $\\tilde{N}$ independent proposals $\\theta^i\\sim p(\\theta)$,  and corresponding data sets  $y^i\\sim p(y|\\theta^i)$ from the computer simulator $p(y|\\theta)$."
   ]
  },
  {
   "cell_type": "markdown",
   "metadata": {
    "slideshow": {
     "slide_type": "fragment"
    }
   },
   "source": [
    "* Compute the summary statistics $s^i = S(y^i)$ for each $i=1,\\ldots,\\tilde{N}$."
   ]
  },
  {
   "cell_type": "markdown",
   "metadata": {
    "slideshow": {
     "slide_type": "fragment"
    }
   },
   "source": [
    "* Compute the distances $\\Delta(s^{i}, s^{\\text{obs}})$ for each $i=1,\\ldots,\\tilde{N}$. "
   ]
  },
  {
   "cell_type": "markdown",
   "metadata": {
    "slideshow": {
     "slide_type": "fragment"
    }
   },
   "source": [
    "* Retain proposals $\\theta^i$ corresponding to those $\\Delta(s^{i}, s^{\\text{obs}})$ such that  $\\Delta(s^{i}, s^{\\text{obs}}) \\leq \\epsilon$, for some  $\\epsilon \\geq 0$."
   ]
  },
  {
   "cell_type": "markdown",
   "metadata": {
    "slideshow": {
     "slide_type": "slide"
    }
   },
   "source": [
    "#### How the ABC method works\n",
    "\n",
    "* The algorithm generates samples from the joint distribution $p^{\\epsilon}_{\\text{ABC}}(\\theta^{\\star},s^{\\star} | s^{\\text{obs}}) \\propto\\mathcal{1}(\\Delta(s^{\\star}, s^{\\text{obs}}) \\leq \\epsilon)p(s^{\\star}|\\theta)p(\\theta) = (s^{\\star}_{1:\\tilde{M}}, \\theta^{\\star}_{1:\\tilde{M}})$."
   ]
  },
  {
   "cell_type": "markdown",
   "metadata": {
    "slideshow": {
     "slide_type": "fragment"
    }
   },
   "source": [
    "* However we are interested in $p^{\\epsilon}_{\\text{ABC}}(\\theta^{\\star} | s^{\\text{obs}}) \\propto \\int p^{\\epsilon}_{\\text{ABC}}(\\theta^{\\star},s^{\\star} | s^{\\text{obs}})ds^{\\star}$."
   ]
  },
  {
   "cell_type": "markdown",
   "metadata": {
    "slideshow": {
     "slide_type": "fragment"
    }
   },
   "source": [
    "* Thus we simply take the joint disbution $p^{\\epsilon}_{\\text{ABC}}(\\theta^{\\star},s^{\\star} | s^{\\text{obs}}) \\propto\\mathcal{1}(\\Delta(s^{\\star}, s^{\\text{obs}}) \\leq \\epsilon)p(s^{\\star}|\\theta)p(\\theta) = (s^{\\star}_{1:\\tilde{M}}, \\theta^{\\star}_{1:\\tilde{M}})$ and marginalizes over $s^{\\star}$. Which in the Monte Calor scheme means only keeping the  $\\theta^{\\star}_{1:\\tilde{M}}$ samples.  "
   ]
  },
  {
   "cell_type": "markdown",
   "metadata": {
    "slideshow": {
     "slide_type": "slide"
    }
   },
   "source": [
    "#### ABC rejection sampling for the Beta-Binomial model\n",
    "\n",
    "Model: $$y \\sim \\text{Binomial}(m,p),$$ $$p \\sim \\text{Beta}(\\alpha, \\beta).$$ \n"
   ]
  },
  {
   "cell_type": "code",
   "execution_count": 91,
   "metadata": {
    "slideshow": {
     "slide_type": "fragment"
    }
   },
   "outputs": [],
   "source": [
    "# Define the model and the prior distribution.\n",
    "\n",
    "m = 4; p_true = 0.7; # model parameters \n",
    "\n",
    "n = 10; # number of samples from the model \n",
    "\n",
    "data_generator(p) = rand(Binomial(m,p),n) # define the data generating function\n",
    "\n",
    "Random.seed!(12) # fix random numbers \n",
    "y_obs = data_generator(p_true) # generate data\n",
    "\n",
    "# prior \n",
    "α = 2; β = 2\n",
    "prior = Beta(α,β);"
   ]
  },
  {
   "cell_type": "markdown",
   "metadata": {
    "slideshow": {
     "slide_type": "slide"
    }
   },
   "source": [
    "#### ABC rejection sampling for the Beta-Binomial model "
   ]
  },
  {
   "cell_type": "code",
   "execution_count": 92,
   "metadata": {
    "slideshow": {
     "slide_type": "fragment"
    }
   },
   "outputs": [],
   "source": [
    "# define the summary statistics \n",
    "S_handpicked(y) = sum(y); # canonical statistic, i.e. the statistic is sufficient!"
   ]
  },
  {
   "cell_type": "code",
   "execution_count": 93,
   "metadata": {
    "slideshow": {
     "slide_type": "fragment"
    }
   },
   "outputs": [],
   "source": [
    "# ABC rejection sampling algorithm \n",
    "function abc_rs(;N_proposals::Int, ϵ::Real, S::Function)\n",
    "    \n",
    "    abc_posterior_samples = zeros(N_proposals) \n",
    "    nbr_accepted_proposals = 0 \n",
    "    \n",
    "    s_obs = S(y_obs) # compute summary statistics for obs. data \n",
    "    \n",
    "    for i in 1:N_proposals\n",
    "    \n",
    "        p_star = rand(prior) # sample parameter proposal from prior \n",
    "        y_star = data_generator(p_star) # generate data from the computer simulator \n",
    "        Δ =  abs(S(y_star)-s_obs) # compute ABC distance      \n",
    "        \n",
    "        if Δ <= ϵ # accapte proposal \n",
    "            nbr_accepted_proposals += 1 \n",
    "            abc_posterior_samples[nbr_accepted_proposals] = p_star \n",
    "        end \n",
    "        \n",
    "    end \n",
    "    \n",
    "    return abc_posterior_samples[1:nbr_accepted_proposals]\n",
    "end; "
   ]
  },
  {
   "cell_type": "markdown",
   "metadata": {
    "slideshow": {
     "slide_type": "slide"
    }
   },
   "source": [
    "#### ABC rejection sampling for the Beta-Binomial model"
   ]
  },
  {
   "cell_type": "code",
   "execution_count": 98,
   "metadata": {
    "slideshow": {
     "slide_type": "fragment"
    }
   },
   "outputs": [
    {
     "name": "stdout",
     "output_type": "stream",
     "text": [
      "Acceptance rate: 21.18 %"
     ]
    }
   ],
   "source": [
    "# Run ABC rejection sampling\n",
    "abc_posterior_samples = abc_rs(N_proposals = 10^6, ϵ  = 3., S=S_handpicked);\n",
    "@printf \"Acceptance rate: %.2f %%\" length(abc_posterior_samples)/10^6*100"
   ]
  },
  {
   "cell_type": "code",
   "execution_count": 99,
   "metadata": {
    "slideshow": {
     "slide_type": "fragment"
    }
   },
   "outputs": [
    {
     "data": {
      "image/png": "[encoded data removed]",
      "text/plain": [
       "Figure(PyObject <Figure size 700x400 with 1 Axes>)"
      ]
     },
     "metadata": {},
     "output_type": "display_data"
    }
   ],
   "source": [
    "# plot posterior inference results \n",
    "plot_abc_inference_results(abc_posterior_samples);"
   ]
  },
  {
   "cell_type": "markdown",
   "metadata": {
    "slideshow": {
     "slide_type": "slide"
    }
   },
   "source": [
    "#### More advanced methods\n",
    "\n",
    "* The ABC rejection-sampling algorithm is *very* inefficient (since we sample proposals from the prior)."
   ]
  },
  {
   "cell_type": "markdown",
   "metadata": {
    "slideshow": {
     "slide_type": "fragment"
    }
   },
   "source": [
    "* Thus, in practice more efficient algorithms are used (e.g. ABC-MCMC, ABC-SMC, or my personal favorite ABC-PMC)."
   ]
  },
  {
   "cell_type": "markdown",
   "metadata": {
    "slideshow": {
     "slide_type": "slide"
    }
   },
   "source": [
    "#### Learning summary statistics for ABC using deep learning 1/x\n",
    "\n",
    "#### How to select/learn summary statistics\n",
    "\n",
    "* The summary statistics *should* be low-dimensional and informative for the parameters (in the ideal case sufficient)."
   ]
  },
  {
   "cell_type": "markdown",
   "metadata": {
    "slideshow": {
     "slide_type": "fragment"
    }
   },
   "source": [
    "* The problem of selecting informative summary statistics is the main challenge when applying ABC in practice;"
   ]
  },
  {
   "cell_type": "markdown",
   "metadata": {
    "slideshow": {
     "slide_type": "fragment"
    }
   },
   "source": [
    "* Usually, summary statistics are ad-hoc and \"handpicked\" out of subject-domain expertise. For example, for dynamic models, summaries can be autocorrelations, cross-covariances, stationary mean. For i.i.d. data could be quantiles, mean, and standard deviation, etc.."
   ]
  },
  {
   "cell_type": "markdown",
   "metadata": {
    "slideshow": {
     "slide_type": "fragment"
    }
   },
   "source": [
    "* Several methods to learn/select summary statistics have been developed (see (Prangle, 2015) for a review on these methods);"
   ]
  },
  {
   "cell_type": "markdown",
   "metadata": {
    "slideshow": {
     "slide_type": "slide"
    }
   },
   "source": [
    "#### Learning summary statistics for ABC using deep learning 1/x\n",
    "\n",
    "* An important paper is Fearnhead & Prangle, 2012 where they use linear regression to learn summary statistics, they also show that the posterior mean is the *best* (in terms of loss for the posterior mean) summary statistic; "
   ]
  },
  {
   "cell_type": "markdown",
   "metadata": {
    "slideshow": {
     "slide_type": "fragment"
    }
   },
   "source": [
    "* The semi-automatic ABC method (Fearnhead & Prangle, 2012):\n",
    "    * We can sample a set of parameter-data pairs $(\\theta^{i}, y^i)_{1 \\leq i \\leq N}$, by sampling $\\theta^{i}$ from the prior $p(\\theta)$, and then simulate corresponding data set $y^{i}$ from the simulator $p(y|\\theta)$;    \n",
    "    * Learn the posterior mean from the $N$ simulations,  using a linear regression model: $$\\theta_j^i = E(\\theta_j | y^i) + \\xi_j^i = b_{0_j} + b_j h(y^i) + \\xi_j^i.$$\n",
    "    * After fitting the linear regression model $S_j(y^{\\star}) = \\tilde{b}_{0_j} + \\tilde{b}_j h(y^{\\star})$ is the j:th summary statistics for the proposed data set $y^{\\star}$. "
   ]
  },
  {
   "cell_type": "markdown",
   "metadata": {
    "slideshow": {
     "slide_type": "slide"
    }
   },
   "source": [
    "#### Learning summary statistics for ABC using deep learning 1/x\n",
    "\n",
    "##### Semi-automatic ABC for the Beta-Binomial model: Step 1: Generate data"
   ]
  },
  {
   "cell_type": "code",
   "execution_count": 100,
   "metadata": {
    "slideshow": {
     "slide_type": "fragment"
    }
   },
   "outputs": [],
   "source": [
    "# generate parameter-data pairs  \n",
    "N = 1000\n",
    "parameters = rand(prior, N)\n",
    "data = zeros(N,10)\n",
    "for i in 1:N; data[i,:] = data_generator(parameters[i]); end"
   ]
  },
  {
   "cell_type": "markdown",
   "metadata": {
    "slideshow": {
     "slide_type": "slide"
    }
   },
   "source": [
    "#### Learning summary statistics for ABC using deep learning 1/x\n",
    "\n",
    "##### Semi-automatic ABC for the Beta-Binomial model: Step 2: Fit linear regression model"
   ]
  },
  {
   "cell_type": "code",
   "execution_count": 101,
   "metadata": {
    "slideshow": {
     "slide_type": "fragment"
    }
   },
   "outputs": [],
   "source": [
    "# Fit linear regression model \n",
    "β = (data'*data)\\data'*parameters; # ls estimation "
   ]
  },
  {
   "cell_type": "code",
   "execution_count": 102,
   "metadata": {
    "slideshow": {
     "slide_type": "fragment"
    }
   },
   "outputs": [],
   "source": [
    "# Define the new function to compute the summary statistic \n",
    "S_semi_auto(y) = y'*β;"
   ]
  },
  {
   "cell_type": "markdown",
   "metadata": {
    "slideshow": {
     "slide_type": "slide"
    }
   },
   "source": [
    "#### Learning summary statistics for ABC using deep learning 1/x\n",
    "\n",
    "##### Semi-automatic ABC for the Beta-Binomial model: Step 2: Run ABC algorithm"
   ]
  },
  {
   "cell_type": "code",
   "execution_count": 103,
   "metadata": {
    "slideshow": {
     "slide_type": "fragment"
    }
   },
   "outputs": [
    {
     "name": "stdout",
     "output_type": "stream",
     "text": [
      "Acceptance rate: 5.19 %"
     ]
    }
   ],
   "source": [
    "# Run ABC rejection sampling\n",
    "abc_posterior_samples = abc_rs(N_proposals = 10^6, ϵ  = 0.02, S=S_semi_auto);\n",
    "@printf \"Acceptance rate: %.2f %%\" length(abc_posterior_samples)/10^6*100"
   ]
  },
  {
   "cell_type": "code",
   "execution_count": 104,
   "metadata": {
    "slideshow": {
     "slide_type": "fragment"
    }
   },
   "outputs": [
    {
     "data": {
      "image/png": "[encoded data removed]",
      "text/plain": [
       "Figure(PyObject <Figure size 700x400 with 1 Axes>)"
      ]
     },
     "metadata": {},
     "output_type": "display_data"
    }
   ],
   "source": [
    "# plot posterior inference results \n",
    "plot_abc_inference_results(abc_posterior_samples);"
   ]
  },
  {
   "cell_type": "markdown",
   "metadata": {
    "slideshow": {
     "slide_type": "slide"
    }
   },
   "source": [
    "#### Learning summary statistics for ABC using deep learning 1/x\n",
    "\n",
    "##### Replacing linear regression with multilayer perceptron (MLP) network\n",
    "\n",
    "\n",
    "* In Jiang et al., 2017 they replace the linear regression model with a MLP network, thus they have following regression model: $$\\theta^i = E(\\theta|y^i) + \\xi^i = f_{\\beta}(y^i) + \\xi^i.$$\n",
    "    Where $f_{\\beta}$ is the MLP parameterized by the weights $\\beta$.\n"
   ]
  },
  {
   "cell_type": "markdown",
   "metadata": {
    "slideshow": {
     "slide_type": "fragment"
    }
   },
   "source": [
    "<img src=\"fig/dnn_structure.PNG\" width=\"800\" height=\"800\" align = \"bottom\"/>\n",
    "\n",
    "Source: (Jiang et al., 2017)."
   ]
  },
  {
   "cell_type": "markdown",
   "metadata": {
    "slideshow": {
     "slide_type": "slide"
    }
   },
   "source": [
    "#### Learning summary statistics for ABC using deep learning 1/x\n",
    "\n",
    "##### Partially exchangeable networks (PENs) (Wiqvist et al., 2019)\n",
    "\n",
    "* Markovian data is *partially exchangeable* (which is a property that characterizes Markovian data the same way as *exchangeability* characterizes i.i.d. data). "
   ]
  },
  {
   "cell_type": "markdown",
   "metadata": {
    "slideshow": {
     "slide_type": "fragment"
    }
   },
   "source": [
    "* Now, PEN is designed such that it is invariant to the partial exchangeability property of Markovian data."
   ]
  },
  {
   "cell_type": "markdown",
   "metadata": {
    "slideshow": {
     "slide_type": "fragment"
    }
   },
   "source": [
    "* We can write the PEN regression model as: $$\\theta^i = E(\\theta|y^i) + \\xi^i = \\rho_{\\beta_{\\rho}}\\biggl(y^i_{1:d}, \\sum_{l = 1}^{M-d}  \\phi_{\\beta_{\\phi}}(y^i_{l:l+d})\\biggr) + \\xi^i.$$   "
   ]
  },
  {
   "cell_type": "markdown",
   "metadata": {
    "slideshow": {
     "slide_type": "fragment"
    }
   },
   "source": [
    "* The advantage of PEN is that the architecture leverages the partial exchangeability property of Markovian data, and thus PEN does not have to *learn* this property."
   ]
  },
  {
   "cell_type": "markdown",
   "metadata": {
    "slideshow": {
     "slide_type": "slide"
    }
   },
   "source": [
    "#### Learning summary statistics for ABC using deep learning 1/x\n",
    "\n",
    "##### Results for the AR2 model\n",
    "\n",
    "Model: $$y_l = \\theta_1 y_{l-1} + \\theta_2 y_{l-2} + z_l,\\qquad z_l \\sim N(0,1).$$"
   ]
  },
  {
   "cell_type": "markdown",
   "metadata": {
    "slideshow": {
     "slide_type": "fragment"
    }
   },
   "source": [
    "<img src=\"fig/ar2_10_6.svg\" width=\"10000\" height=\"10000\" align = \"bottom\"/>"
   ]
  },
  {
   "cell_type": "markdown",
   "metadata": {
    "slideshow": {
     "slide_type": "slide"
    }
   },
   "source": [
    "#### Learning summary statistics for ABC using deep learning 1/x\n",
    "\n",
    "##### Results for the AR2 model\n",
    "\n",
    "Model: $$y_l = \\theta_1 y_{l-1} + \\theta_2 y_{l-2} + z_l,\\qquad z_l \\sim N(0,1).$$\n",
    "\n",
    "<img src=\"fig/ar2_10_5.svg\"  width=\"10000\" height=\"10000\" align = \"bottom\"/>"
   ]
  },
  {
   "cell_type": "markdown",
   "metadata": {
    "slideshow": {
     "slide_type": "slide"
    }
   },
   "source": [
    "#### Learning summary statistics for ABC using deep learning 1/x\n",
    "\n",
    "##### Results for the AR2 model\n",
    "\n",
    "Model: $$y_l = \\theta_1 y_{l-1} + \\theta_2 y_{l-2} + z_l,\\qquad z_l \\sim N(0,1).$$\n",
    "\n",
    "<img src=\"fig/ar2_10_4.svg\"  width=\"10000\" height=\"10000\" align = \"bottom\"/>"
   ]
  },
  {
   "cell_type": "markdown",
   "metadata": {
    "slideshow": {
     "slide_type": "slide"
    }
   },
   "source": [
    "#### Learning summary statistics for ABC using deep learning 1/x\n",
    "\n",
    "##### Results for the AR2 model\n",
    "\n",
    "Model: $$y_l = \\theta_1 y_{l-1} + \\theta_2 y_{l-2} + z_l,\\qquad z_l \\sim N(0,1).$$\n",
    "\n",
    "<img src=\"fig/ar2_10_3.svg\"  width=\"10000\" height=\"10000\" align = \"bottom\"/>"
   ]
  },
  {
   "cell_type": "markdown",
   "metadata": {
    "slideshow": {
     "slide_type": "slide"
    }
   },
   "source": [
    "#### Deep learning based methods 1/2 \n",
    "\n",
    "* Sequential neural density estimation - does not requre us to select ABC-threashold, learns a proposal distribution *automatically* (see for instance Papamakarios & Murray, 2016)\n",
    "\n",
    "* Automatic Posterior Transformation - a version of SNDE (Greenberg et al., 2019)"
   ]
  },
  {
   "cell_type": "markdown",
   "metadata": {
    "slideshow": {
     "slide_type": "slide"
    }
   },
   "source": [
    "#### Deep learning based methods 2/2 \n",
    "\n",
    "<img src=\"fig/atp_fig.png\"  width=\"500\" height=\"500\" align = \"bottom\"/>\n",
    "\n",
    "Source: (Greenberg et al., 2019)."
   ]
  },
  {
   "cell_type": "markdown",
   "metadata": {
    "slideshow": {
     "slide_type": "slide"
    }
   },
   "source": [
    "#### Conclusions \n",
    "\n",
    "* A short hands-on introduction to Bayesian statistics and the workflow for Bayesian analyses.  "
   ]
  },
  {
   "cell_type": "markdown",
   "metadata": {
    "slideshow": {
     "slide_type": "fragment"
    }
   },
   "source": [
    "* A short hands-on introduction to approximate Bayesian computation.  "
   ]
  },
  {
   "cell_type": "markdown",
   "metadata": {
    "slideshow": {
     "slide_type": "fragment"
    }
   },
   "source": [
    "* How we can use deep learning to learn summary statistics for ABC."
   ]
  },
  {
   "cell_type": "markdown",
   "metadata": {
    "slideshow": {
     "slide_type": "fragment"
    }
   },
   "source": [
    "* Some other deep learning-based methods that are similar to ABC."
   ]
  },
  {
   "cell_type": "markdown",
   "metadata": {
    "slideshow": {
     "slide_type": "fragment"
    }
   },
   "source": [
    "* Computer exercise: Implement the ABC rejection sampling algorithm for the g-and-k distribution."
   ]
  },
  {
   "cell_type": "markdown",
   "metadata": {
    "slideshow": {
     "slide_type": "slide"
    }
   },
   "source": [
    "#### Thank you for listening!\n",
    "\n",
    "Homepage: http://www.maths.lu.se/staff/samuel-wiqvist/\n",
    "\n",
    "Github: SamuelWiqvist\n",
    "\n",
    "Twitter: samuel_wiqvist"
   ]
  },
  {
   "cell_type": "markdown",
   "metadata": {
    "slideshow": {
     "slide_type": "slide"
    }
   },
   "source": [
    "#### References \n",
    "\n",
    "Fearnhead,  P.  and  Prangle,  D. *Constructing summary statistics for approximate bayesian computation:  semi-automatic approximate Bayesian computation*. Journal of the Royal Statistical Society: Series B, 74(3):419–474, 2012.\n",
    "\n",
    "Greenberg, David S., Marcel Nonnenmacher, and Jakob H. Macke. \"Automatic Posterior Transformation for Likelihood-Free Inference.\" arXiv preprint arXiv:1905.07488 (2019).\n",
    "\n",
    "Jiang, B., Wu, T.-y., Zheng, C., and Wong, W. H. *Learning summary statistic for approximate Bayesian computation via deep neural network*. Statistica Sinica, pp. 1595–1618, 2017.\n",
    "\n",
    "Papamakarios, George, and Iain Murray. \"Fast ε-free inference of simulation models with Bayesian conditional density estimation.\" Advances in Neural Information Processing Systems. 2016.\n",
    "\n",
    "Prangle, D. *Summary statistics in approximate Bayesian computation*. arXiv:1512.05633, 2015.\n",
    "\n",
    "Wiqvist, S., Mattei P-A., Picchini U., and Frellsen J. *Partially Exchangeable Networks and Architectures for Learning Summary Statistics in Approximate Bayesian Computation*, arXiv:1901.10230, 2019. "
   ]
  },
  {
   "cell_type": "markdown",
   "metadata": {
    "slideshow": {
     "slide_type": "slide"
    }
   },
   "source": [
    "#### Extra slide: ABC rejection sampling for the Beta-Binomial model  "
   ]
  },
  {
   "cell_type": "code",
   "execution_count": 12,
   "metadata": {
    "slideshow": {
     "slide_type": "fragment"
    }
   },
   "outputs": [],
   "source": [
    "# ABC rejection sampling algorithm \n",
    "function abc_rs_without_summary_stats(;N_proposals::Int, ϵ::Real)\n",
    "    \n",
    "    abc_posterior_samples = zeros(N_proposals)\n",
    "    nbr_accepted_proposals = 0 \n",
    "    \n",
    "    for i in 1:N_proposals\n",
    "    \n",
    "        p_star = rand(prior) # sample parameter proposal from prior \n",
    "        y_star = data_generator(p_star) # generate data from the data model\n",
    "        Δ = sum(abs.(sort(y_star)-sort(y_obs))) # compute ABC distance      \n",
    "        \n",
    "        if Δ <= ϵ # accept proposal \n",
    "            nbr_accepted_proposals += 1 \n",
    "            abc_posterior_samples[nbr_accepted_proposals] = p_star \n",
    "        end \n",
    "    end \n",
    "    \n",
    "    return abc_posterior_samples[1:nbr_accepted_proposals]\n",
    "end; "
   ]
  },
  {
   "cell_type": "markdown",
   "metadata": {
    "slideshow": {
     "slide_type": "slide"
    }
   },
   "source": [
    "#### Extra slide: ABC rejection sampling for the Beta-Binomial model "
   ]
  },
  {
   "cell_type": "code",
   "execution_count": 13,
   "metadata": {
    "slideshow": {
     "slide_type": "fragment"
    }
   },
   "outputs": [
    {
     "name": "stdout",
     "output_type": "stream",
     "text": [
      "Acceptance rate: 0.35 %"
     ]
    }
   ],
   "source": [
    "# Run ABC rejection sampling\n",
    "abc_posterior_samples = abc_rs_without_summary_stats(N_proposals = 10^6, ϵ  = 0);\n",
    "@printf \"Acceptance rate: %.2f %%\" length(abc_posterior_samples)/10^6*100"
   ]
  },
  {
   "cell_type": "code",
   "execution_count": 14,
   "metadata": {
    "slideshow": {
     "slide_type": "fragment"
    }
   },
   "outputs": [
    {
     "data": {
      "image/png": "[encoded data removed]",
      "text/plain": [
       "Figure(PyObject <Figure size 700x400 with 1 Axes>)"
      ]
     },
     "metadata": {},
     "output_type": "display_data"
    }
   ],
   "source": [
    "# plot posterior inference results \n",
    "plot_abc_inference_results(abc_posterior_samples);"
   ]
  },
  {
   "cell_type": "markdown",
   "metadata": {
    "slideshow": {
     "slide_type": "slide"
    }
   },
   "source": [
    "#### Extra slide: Approximate Bayesian Computation: Approximate posterior \n",
    "\n",
    "* The joint distribution of accapted parameter-data paris $(\\theta^{\\star}, s^{\\star})$ is \n",
    "$$p(\\theta^{\\star}, s^{\\star}) = p(s^{\\star}|\\theta^{\\star}) p(\\theta^{\\star}) I(\\Delta(s^{\\star},s^{\\text{obs}}) \\leq \\epsilon),$$\n",
    "where $s^{\\text{obs}} = S(y^{\\text{obs}})$, $I$ indicator kernel, $\\Delta$ distance function, and $\\epsilon$ the threshold.\n",
    "\n"
   ]
  },
  {
   "cell_type": "markdown",
   "metadata": {
    "slideshow": {
     "slide_type": "fragment"
    }
   },
   "source": [
    "* Now assume that $S(s^{\\star}) = S(s^{\\text{obs}}) \\,\\, \\text{iff} \\,\\, y^{\\star} = y^{\\text{obs}}$ and let $\\epsilon = 0$. Now marginlizing $s^{\\star}$ yields the true posterior:\n",
    "$$ p(\\theta^{\\star}| s^{\\text{obs}}) = \\int p(s^{\\star}|\\theta^{\\star}) p(\\theta^{\\star}) I(\\Delta(s^{\\star},s^{\\text{obs}}) \\leq \\epsilon)   ds^{\\star} = p(y |\\theta^{\\star}) p(\\theta^{\\star}) \\propto  p(\\theta^{\\star}| y) .$$"
   ]
  },
  {
   "cell_type": "markdown",
   "metadata": {
    "slideshow": {
     "slide_type": "fragment"
    }
   },
   "source": [
    "* However, in (almost) all situations we sample from an approximate posterior: \n",
    "\n",
    "$$p^{\\epsilon}_{\\text{ABC}}(\\theta^{\\star} | s^{\\text{obs}}) \\propto \\int p(s^{\\star}|\\theta^{\\star}) p(\\theta^{\\star}) I(\\Delta(s^{\\star},s^{\\text{obs}}) \\leq \\epsilon)   ds^{\\star}.$$\n"
   ]
  },
  {
   "cell_type": "markdown",
   "metadata": {
    "slideshow": {
     "slide_type": "slide"
    }
   },
   "source": [
    "#### Extra slide: Results for the AR2 model with observation noise\n",
    "\n",
    "Model: $$y_l = \\theta_1 y_{l-1} + \\theta_2 y_{l-2} + z_l,\\qquad z_l \\sim N(0,1).$$"
   ]
  },
  {
   "cell_type": "markdown",
   "metadata": {
    "slideshow": {
     "slide_type": "fragment"
    }
   },
   "source": [
    "<img src=\"fig/res_ar2_wasserstein.svg\" width=\"800\" height=\"2000\" align=\"center\"/>"
   ]
  },
  {
   "cell_type": "markdown",
   "metadata": {
    "slideshow": {
     "slide_type": "slide"
    }
   },
   "source": [
    "#### Extra slide: Results for the MA2 model with observation noise\n",
    "\n",
    "Model: $$y_i = x_i + e_i, \\qquad e_i \\sim N(0, \\sigma_\\epsilon),$$ $$x_i = z_i + \\theta_1 z_{i-1} + \\theta_2 z_{i-2}, \\qquad z_i \\sim N(0, 1).$$\n"
   ]
  },
  {
   "cell_type": "markdown",
   "metadata": {
    "slideshow": {
     "slide_type": "fragment"
    }
   },
   "source": [
    "<img src=\"fig/res_ma2_wasserstein.svg\" width=\"800\" height=\"2000\" align=\"center\"/>\n"
   ]
  }
 ],
 "metadata": {
  "@webio": {
   "lastCommId": null,
   "lastKernelId": null
  },
  "celltoolbar": "Slideshow",
  "kernelspec": {
   "display_name": "Julia 1.0.0",
   "language": "julia",
   "name": "julia-1.0"
  },
  "language_info": {
   "file_extension": ".jl",
   "mimetype": "application/julia",
   "name": "julia",
   "version": "1.0.0"
  }
 },
 "nbformat": 4,
 "nbformat_minor": 2
}
